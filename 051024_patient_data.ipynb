{
 "cells": [
  {
   "cell_type": "code",
   "execution_count": 1,
   "metadata": {},
   "outputs": [],
   "source": [
    "from datasets import load_dataset\n",
    "\n",
    "import pandas as pd\n",
    "import numpy as np \n",
    "import json\n",
    "import os\n",
    "import re\n",
    "\n",
    "from utils.patient_data_pull import RareDataLoader"
   ]
  },
  {
   "cell_type": "code",
   "execution_count": 2,
   "metadata": {},
   "outputs": [
    {
     "name": "stderr",
     "output_type": "stream",
     "text": [
      "Found cached dataset rare_bench (/Users/juliev/.cache/huggingface/datasets/chenxz___rare_bench/RAMEDIS/1.0.0/7aec8acd7a69695cc23c75157e278fdc1f12c20f4eee0fa8c8bfdc689cdf8b9a)\n",
      "Found cached dataset rare_bench (/Users/juliev/.cache/huggingface/datasets/chenxz___rare_bench/MME/1.0.0/7aec8acd7a69695cc23c75157e278fdc1f12c20f4eee0fa8c8bfdc689cdf8b9a)\n",
      "Found cached dataset rare_bench (/Users/juliev/.cache/huggingface/datasets/chenxz___rare_bench/HMS/1.0.0/7aec8acd7a69695cc23c75157e278fdc1f12c20f4eee0fa8c8bfdc689cdf8b9a)\n",
      "Found cached dataset rare_bench (/Users/juliev/.cache/huggingface/datasets/chenxz___rare_bench/LIRICAL/1.0.0/7aec8acd7a69695cc23c75157e278fdc1f12c20f4eee0fa8c8bfdc689cdf8b9a)\n",
      "Found cached dataset rare_bench (/Users/juliev/.cache/huggingface/datasets/chenxz___rare_bench/PUMCH_ADM/1.0.0/7aec8acd7a69695cc23c75157e278fdc1f12c20f4eee0fa8c8bfdc689cdf8b9a)\n"
     ]
    }
   ],
   "source": [
    "loader = RareDataLoader()"
   ]
  },
  {
   "cell_type": "code",
   "execution_count": 5,
   "metadata": {},
   "outputs": [],
   "source": [
    "json_data = loader.get_full_json_list()"
   ]
  },
  {
   "cell_type": "code",
   "execution_count": 6,
   "metadata": {},
   "outputs": [],
   "source": [
    "import io, json\n",
    "with io.open('rare_bench.json', 'w', encoding='utf-8') as f:\n",
    "  f.write(json_data)"
   ]
  },
  {
   "cell_type": "code",
   "execution_count": null,
   "metadata": {},
   "outputs": [],
   "source": []
  }
 ],
 "metadata": {
  "kernelspec": {
   "display_name": "metrics",
   "language": "python",
   "name": "python3"
  },
  "language_info": {
   "codemirror_mode": {
    "name": "ipython",
    "version": 3
   },
   "file_extension": ".py",
   "mimetype": "text/x-python",
   "name": "python",
   "nbconvert_exporter": "python",
   "pygments_lexer": "ipython3",
   "version": "3.11.0"
  }
 },
 "nbformat": 4,
 "nbformat_minor": 2
}
