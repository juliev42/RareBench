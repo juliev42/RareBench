{
 "cells": [
  {
   "cell_type": "code",
   "execution_count": 61,
   "metadata": {},
   "outputs": [],
   "source": [
    "from datasets import load_dataset\n",
    "\n",
    "import pandas as pd\n",
    "import numpy as np \n",
    "import json\n",
    "import os\n",
    "import re"
   ]
  },
  {
   "cell_type": "code",
   "execution_count": 4,
   "metadata": {},
   "outputs": [
    {
     "name": "stderr",
     "output_type": "stream",
     "text": [
      "Found cached dataset rare_bench (/Users/juliev/.cache/huggingface/datasets/chenxz___rare_bench/RAMEDIS/1.0.0/7aec8acd7a69695cc23c75157e278fdc1f12c20f4eee0fa8c8bfdc689cdf8b9a)\n"
     ]
    },
    {
     "name": "stdout",
     "output_type": "stream",
     "text": [
      "RAMEDIS\n",
      "Dataset({\n",
      "    features: ['Phenotype', 'RareDisease', 'Department'],\n",
      "    num_rows: 624\n",
      "})\n"
     ]
    },
    {
     "name": "stderr",
     "output_type": "stream",
     "text": [
      "Found cached dataset rare_bench (/Users/juliev/.cache/huggingface/datasets/chenxz___rare_bench/MME/1.0.0/7aec8acd7a69695cc23c75157e278fdc1f12c20f4eee0fa8c8bfdc689cdf8b9a)\n"
     ]
    },
    {
     "name": "stdout",
     "output_type": "stream",
     "text": [
      "MME\n",
      "Dataset({\n",
      "    features: ['Phenotype', 'RareDisease', 'Department'],\n",
      "    num_rows: 40\n",
      "})\n"
     ]
    },
    {
     "name": "stderr",
     "output_type": "stream",
     "text": [
      "Found cached dataset rare_bench (/Users/juliev/.cache/huggingface/datasets/chenxz___rare_bench/HMS/1.0.0/7aec8acd7a69695cc23c75157e278fdc1f12c20f4eee0fa8c8bfdc689cdf8b9a)\n"
     ]
    },
    {
     "name": "stdout",
     "output_type": "stream",
     "text": [
      "HMS\n",
      "Dataset({\n",
      "    features: ['Phenotype', 'RareDisease', 'Department'],\n",
      "    num_rows: 88\n",
      "})\n"
     ]
    },
    {
     "name": "stderr",
     "output_type": "stream",
     "text": [
      "Found cached dataset rare_bench (/Users/juliev/.cache/huggingface/datasets/chenxz___rare_bench/LIRICAL/1.0.0/7aec8acd7a69695cc23c75157e278fdc1f12c20f4eee0fa8c8bfdc689cdf8b9a)\n"
     ]
    },
    {
     "name": "stdout",
     "output_type": "stream",
     "text": [
      "LIRICAL\n",
      "Dataset({\n",
      "    features: ['Phenotype', 'RareDisease', 'Department'],\n",
      "    num_rows: 370\n",
      "})\n"
     ]
    },
    {
     "name": "stderr",
     "output_type": "stream",
     "text": [
      "Found cached dataset rare_bench (/Users/juliev/.cache/huggingface/datasets/chenxz___rare_bench/PUMCH_ADM/1.0.0/7aec8acd7a69695cc23c75157e278fdc1f12c20f4eee0fa8c8bfdc689cdf8b9a)\n"
     ]
    },
    {
     "name": "stdout",
     "output_type": "stream",
     "text": [
      "PUMCH_ADM\n",
      "Dataset({\n",
      "    features: ['Phenotype', 'RareDisease', 'Department'],\n",
      "    num_rows: 75\n",
      "})\n"
     ]
    }
   ],
   "source": [
    "ds = [\"RAMEDIS\", \"MME\", \"HMS\", \"LIRICAL\", \"PUMCH_ADM\"]\n",
    "\n",
    "#df = pd.DataFrame()\n",
    "\n",
    "datasets = {}\n",
    "\n",
    "\n",
    "\n",
    "\n",
    "for dataset in ds:\n",
    "    data = load_dataset('chenxz/RareBench', dataset, split = \"test\")\n",
    "    datasets[dataset] = data\n",
    "    print(dataset)\n",
    "    print(data)"
   ]
  },
  {
   "cell_type": "code",
   "execution_count": 32,
   "metadata": {},
   "outputs": [
    {
     "data": {
      "text/plain": [
       "{'Phenotype': ['HP:0001225',\n",
       "  'HP:0001382',\n",
       "  'HP:0001443',\n",
       "  'HP:0001894',\n",
       "  'HP:0001974',\n",
       "  'HP:0003419',\n",
       "  'HP:0025238',\n",
       "  'HP:0030833',\n",
       "  'HP:0030834',\n",
       "  'HP:0030835',\n",
       "  'HP:0030836',\n",
       "  'HP:0030839'],\n",
       " 'RareDisease': ['OMIM:106300'],\n",
       " 'Department': None}"
      ]
     },
     "execution_count": 32,
     "metadata": {},
     "output_type": "execute_result"
    }
   ],
   "source": [
    "datasets['HMS'][0]"
   ]
  },
  {
   "cell_type": "code",
   "execution_count": 6,
   "metadata": {},
   "outputs": [
    {
     "data": {
      "text/plain": [
       "{'Phenotype': ['HP:0001270',\n",
       "  'HP:0001290',\n",
       "  'HP:0001522',\n",
       "  'HP:0002090',\n",
       "  'HP:0040156'],\n",
       " 'RareDisease': ['OMIM:271980', 'ORPHA:22'],\n",
       " 'Department': None}"
      ]
     },
     "execution_count": 6,
     "metadata": {},
     "output_type": "execute_result"
    }
   ],
   "source": [
    "datasets['RAMEDIS'][1]"
   ]
  },
  {
   "cell_type": "code",
   "execution_count": 65,
   "metadata": {},
   "outputs": [],
   "source": [
    "def get_symptoms_formatted(patient):\n",
    "    symptom_list = patient['Phenotype']\n",
    "    phenotype_mapping = json.load(open(\"mapping/phenotype_mapping.json\", \"r\", encoding=\"utf-8-sig\"))\n",
    "    sym_word_list = []\n",
    "\n",
    "    for i in symptom_list:\n",
    "        if i in phenotype_mapping:\n",
    "            sym_word_list.append(phenotype_mapping[i])\n",
    "    \n",
    "    return (\", \").join(sym_word_list)\n",
    "        \n",
    "\n",
    "\n",
    "def get_diseases_formatted(patient):\n",
    "    disease_list = patient['RareDisease']\n",
    "    disease_mapping = json.load(open(\"mapping/disease_mapping.json\", \"r\", encoding=\"utf-8-sig\"))\n",
    "    disease_word_list = []\n",
    "\n",
    "    for i in disease_list:\n",
    "        if i in disease_mapping:\n",
    "            disease_word_list.append(disease_mapping[i])\n",
    "\n",
    "    #remove chinese characters\n",
    "    disease_word_list = [word for word in disease_word_list if not re.findall(\"[^\\u0000-\\u05C0\\u2100-\\u214F]+\", word)]\n",
    "    \n",
    "    return (\", \").join(disease_word_list)\n",
    "\n",
    "    "
   ]
  },
  {
   "cell_type": "code",
   "execution_count": 66,
   "metadata": {},
   "outputs": [
    {
     "data": {
      "text/plain": [
       "'Motor delay, Generalized hypotonia, Death in infancy, Pneumonia, Elevated urinary carboxylic acid'"
      ]
     },
     "execution_count": 66,
     "metadata": {},
     "output_type": "execute_result"
    }
   ],
   "source": [
    "get_symptoms_formatted(datasets['RAMEDIS'][1])"
   ]
  },
  {
   "cell_type": "code",
   "execution_count": 67,
   "metadata": {},
   "outputs": [
    {
     "data": {
      "text/plain": [
       "'Vitamin B12-unresponsive methylmalonic acidemia/Methylmalonic aciduria due to methylmalonyl-coa mutase deficiency, Vitamin B12-unresponsive methylmalonic acidemia/Methylmalonic aciduria due to methylmalonyl-coa mutase deficiency'"
      ]
     },
     "execution_count": 67,
     "metadata": {},
     "output_type": "execute_result"
    }
   ],
   "source": [
    "get_diseases_formatted(datasets['RAMEDIS'][0])"
   ]
  },
  {
   "cell_type": "code",
   "execution_count": 81,
   "metadata": {},
   "outputs": [],
   "source": [
    "ramedis_diseases = [get_diseases_formatted(datasets['RAMEDIS'][i]) for i in range(len(datasets['RAMEDIS']))]"
   ]
  },
  {
   "cell_type": "code",
   "execution_count": 82,
   "metadata": {},
   "outputs": [
    {
     "data": {
      "text/plain": [
       "'Succinic semialdehyde dehydrogenase deficiency/Succinic semialdehyde dehydrogenase deficiency, Succinic semialdehyde dehydrogenase deficiency/Succinic semialdehyde dehydrogenase deficiency'"
      ]
     },
     "execution_count": 82,
     "metadata": {},
     "output_type": "execute_result"
    }
   ],
   "source": [
    "ramedis_diseases[1]"
   ]
  },
  {
   "cell_type": "code",
   "execution_count": 83,
   "metadata": {},
   "outputs": [
    {
     "data": {
      "text/plain": [
       "                                                                                                                                                                                                                                                                                                                                                                357\n",
       "Vitamin B12-unresponsive methylmalonic acidemia/Methylmalonic aciduria due to methylmalonyl-coa mutase deficiency, Vitamin B12-unresponsive methylmalonic acidemia/Methylmalonic aciduria due to methylmalonyl-coa mutase deficiency                                                                                                                             32\n",
       "PMM2-CDG/Congenital disorder of glycosylation, type Ia, PMM2-CDG/Congenital disorder of glycosylation, type Ia                                                                                                                                                                                                                                                   25\n",
       "Classic galactosemia/GALACTOSEMIA, Classic galactosemia/GALACTOSEMIA                                                                                                                                                                                                                                                                                             15\n",
       "Citrullinemia type I/Citrullinemia, classic, Citrullinemia type I/Citrullinemia, classic                                                                                                                                                                                                                                                                         15\n",
       "3-hydroxy-3-methylglutaric aciduria/3-Hydroxy-3-Methylglutaryl-Coa lyase deficiency, 3-hydroxy-3-methylglutaric aciduria/3-Hydroxy-3-Methylglutaryl-Coa lyase deficiency                                                                                                                                                                                         14\n",
       "Smith-Lemli-Opitz syndrome/Smith-Lemli-Opitz syndrome, Smith-Lemli-Opitz syndrome/Smith-Lemli-Opitz syndrome                                                                                                                                                                                                                                                     14\n",
       "Carbamoyl-phosphate synthetase 1 deficiency/Carbamoyl phosphate synthetase I deficiency, hyperammonemia due to, Carbamoyl-phosphate synthetase 1 deficiency/Carbamoyl phosphate synthetase I deficiency, hyperammonemia due to                                                                                                                                   12\n",
       "3-Methylcrotonyl-CoA carboxylase 1 deficiency, 3-methylcrotonyl-CoA carboxylase deficiency                                                                                                                                                                                                                                                                       11\n",
       "L-2-hydroxyglutaric aciduria/L-2-hydroxyglutaric aciduria, L-2-hydroxyglutaric aciduria/L-2-hydroxyglutaric aciduria                                                                                                                                                                                                                                             11\n",
       "Canavan disease/Canavan disease, Canavan disease/Canavan disease                                                                                                                                                                                                                                                                                                 11\n",
       "Classic homocystinuria/Homocystinuria due to cystathionine beta-synthase deficiency, Classic homocystinuria/Homocystinuria due to cystathionine beta-synthase deficiency                                                                                                                                                                                          9\n",
       "Succinic semialdehyde dehydrogenase deficiency/Succinic semialdehyde dehydrogenase deficiency, Succinic semialdehyde dehydrogenase deficiency/Succinic semialdehyde dehydrogenase deficiency                                                                                                                                                                      8\n",
       "Mitochondrial complex IV deficiency, nuclear type 1                                                                                                                                                                                                                                                                                                               7\n",
       "Maturity-onset diabetes of the young, type 1, MODY                                                                                                                                                                                                                                                                                                                6\n",
       "Neonatal intrahepatic cholestasis due to citrin deficiency/Citrullinemia, type II, neonatal-onset, Neonatal intrahepatic cholestasis due to citrin deficiency/Citrullinemia, type II, neonatal-onset                                                                                                                                                              5\n",
       "Cystinuria/Cystinuria, Cystinuria/Cystinuria                                                                                                                                                                                                                                                                                                                      5\n",
       "Acute intermittent porphyria/Porphyria, acute intermittent, Acute intermittent porphyria/Porphyria, acute intermittent                                                                                                                                                                                                                                            5\n",
       "Alkaptonuria/Alkaptonuria, Alkaptonuria/Alkaptonuria                                                                                                                                                                                                                                                                                                              5\n",
       "Argininosuccinic aciduria/Argininosuccinic aciduria, Argininosuccinic aciduria/Argininosuccinic aciduria                                                                                                                                                                                                                                                          5\n",
       "Methylmalonic acidemia with homocystinuria, type cblC/Methylmalonic aciduria and homocystinuria, Cblc type, Methylmalonic acidemia with homocystinuria, type cblC/Methylmalonic aciduria and homocystinuria, Cblc type                                                                                                                                            4\n",
       "Dihydropyrimidine dehydrogenase deficiency/Dihydropyrimidine dehydrogenase deficiency                                                                                                                                                                                                                                                                             4\n",
       "Glutathione synthetase deficiency                                                                                                                                                                                                                                                                                                                                 3\n",
       "Isolated glycerol kinase deficiency/Glycerol kinase deficiency, Isolated glycerol kinase deficiency/Glycerol kinase deficiency                                                                                                                                                                                                                                    3\n",
       "Fanconi-Bickel syndrome/Fanconi-Bickel syndrome                                                                                                                                                                                                                                                                                                                   2\n",
       "Hawkinsinuria/Hawkinsinuria, Hawkinsinuria/Hawkinsinuria                                                                                                                                                                                                                                                                                                          2\n",
       "Tyrosinemia type 2/Tyrosine transaminase deficiency, Tyrosinemia type 2/Tyrosine transaminase deficiency                                                                                                                                                                                                                                                          2\n",
       "Gyrate atrophy of choroid and retina/Gyrate atrophy of choroid and retina with or without ornithinemia, Gyrate atrophy of choroid and retina/Gyrate atrophy of choroid and retina with or without ornithinemia                                                                                                                                                    2\n",
       "Glycogen storage disease due to liver and muscle phosphorylase kinase deficiency/Glycogen storage disease type IXb                                                                                                                                                                                                                                                2\n",
       "Methylmalonic aciduria, vitamin B12-responsive, cblB type                                                                                                                                                                                                                                                                                                         2\n",
       "Short chain acyl-CoA dehydrogenase deficiency/Acyl-Coa dehydrogenase, short-chain, deficiency of                                                                                                                                                                                                                                                                  2\n",
       "Fructose-1,6-bisphosphatase deficiency/Fructose-1,6-bisphosphatase deficiency, Fructose-1,6-bisphosphatase deficiency/Fructose-1,6-bisphosphatase deficiency                                                                                                                                                                                                      2\n",
       "Carnitine palmitoyl transferase II deficiency, myopathic form/Carnitine palmitoyltransferase II deficiency, myopathic, stress-induced, Carnitine palmitoyl transferase II deficiency, myopathic form/Carnitine palmitoyltransferase II deficiency, myopathic, stress-induced                                                                                      1\n",
       "Congenital adrenal hyperplasia due to 3-beta-hydroxysteroid dehydrogenase deficiency/Adrenal hyperplasia, congenital, due to 3-beta-hydroxysteroid dehydrogenase 2 deficiency, Congenital adrenal hyperplasia due to 3-beta-hydroxysteroid dehydrogenase deficiency/Adrenal hyperplasia, congenital, due to 3-beta-hydroxysteroid dehydrogenase 2 deficiency      1\n",
       "Dihydropyrimidinuria                                                                                                                                                                                                                                                                                                                                              1\n",
       "Homocystinuria due to methylene tetrahydrofolate reductase deficiency/Homocystinuria due to deficiency of n(5,10)-methylenetetrahydrofolatereductase activity                                                                                                                                                                                                     1\n",
       "Ceroid lipofuscinosis, neuronal, 1                                                                                                                                                                                                                                                                                                                                1\n",
       "Methylmalonic aciduria, vitamin B12-responsive, cblA type                                                                                                                                                                                                                                                                                                         1\n",
       "Refsum disease/Refsum disease, Refsum disease/Refsum disease                                                                                                                                                                                                                                                                                                      1\n",
       "Mucopolysaccharidosis type 2/Mucopolysaccharidosis, type II, Mucopolysaccharidosis type 2/Mucopolysaccharidosis, type II                                                                                                                                                                                                                                          1\n",
       "Autosomal dominant dopa-responsive dystonia/Dystonia, DOPA-responsive, with or without hyperphenylalaninemia, Autosomal dominant dopa-responsive dystonia/Dystonia, DOPA-responsive, with or without hyperphenylalaninemia                                                                                                                                        1\n",
       "X-linked hypophosphatemia/Hypophosphatemic rickets, X-linked dominant, X-linked hypophosphatemia/Hypophosphatemic rickets, X-linked dominant                                                                                                                                                                                                                      1\n",
       "Tyrosinemia, type III                                                                                                                                                                                                                                                                                                                                             1\n",
       "3-methylglutaconic aciduria type 4/3-@methylglutaconic aciduria, type IV, 3-methylglutaconic aciduria type 4/3-@methylglutaconic aciduria, type IV                                                                                                                                                                                                                1\n",
       "3-methylglutaconic aciduria type 1/3-methylglutaconic aciduria, type I, 3-methylglutaconic aciduria type 1/3-methylglutaconic aciduria, type I                                                                                                                                                                                                                    1\n",
       "D-2-Hydroxyglutaric aciduria 1                                                                                                                                                                                                                                                                                                                                    1\n",
       "Carnitine palmitoyl transferase 1A deficiency/Carnitine palmitoyltransferase I deficiency, Carnitine palmitoyl transferase 1A deficiency/Carnitine palmitoyltransferase I deficiency                                                                                                                                                                              1\n",
       "Krabbe disease                                                                                                                                                                                                                                                                                                                                                    1\n",
       "Carnitine-acylcarnitine translocase deficiency/Carnitine-acylcarnitine translocase deficiency, Carnitine-acylcarnitine translocase deficiency/Carnitine-acylcarnitine translocase deficiency                                                                                                                                                                      1\n",
       "Dihydropteridine reductase deficiency/Hyperphenylalaninemia, bh4-deficient, C, Dihydropteridine reductase deficiency/Hyperphenylalaninemia, bh4-deficient, C                                                                                                                                                                                                      1\n",
       "Hereditary orotic aciduria/Orotic aciduria, Hereditary orotic aciduria/Orotic aciduria                                                                                                                                                                                                                                                                            1\n",
       "Glycogen storage disease due to glycogen debranching enzyme deficiency/Glycogen storage disease III, Glycogen storage disease due to glycogen debranching enzyme deficiency/Glycogen storage disease III                                                                                                                                                          1\n",
       "Hyperinsulinemic hypoglycemia, familial, 2                                                                                                                                                                                                                                                                                                                        1\n",
       "Mitochondrial DNA depletion syndrome 3 (hepatocerebral type)                                                                                                                                                                                                                                                                                                      1\n",
       "dtype: int64"
      ]
     },
     "execution_count": 83,
     "metadata": {},
     "output_type": "execute_result"
    }
   ],
   "source": [
    "pd.Series(ramedis_diseases).value_counts()"
   ]
  },
  {
   "cell_type": "code",
   "execution_count": 72,
   "metadata": {},
   "outputs": [],
   "source": [
    "mme_diseases = [get_diseases_formatted(datasets['MME'][i]) for i in range(len(datasets['MME']))]"
   ]
  },
  {
   "cell_type": "code",
   "execution_count": 89,
   "metadata": {},
   "outputs": [],
   "source": [
    "lirical_diseases = [get_diseases_formatted(datasets['LIRICAL'][i]) for i in range(len(datasets['MME']))]"
   ]
  },
  {
   "cell_type": "code",
   "execution_count": 75,
   "metadata": {},
   "outputs": [
    {
     "data": {
      "text/plain": [
       "Cerebrocostomandibular syndrome/Cerebrocostomandibular syndrome, Cerebrocostomandibular syndrome/Cerebrocostomandibular syndrome                                                                                                                                                                                                                                                                                                                        11\n",
       "Alacrimia-choreoathetosis-liver dysfunction syndrome/Congenital disorder of deglycosylation 1, Alacrimia-choreoathetosis-liver dysfunction syndrome/Congenital disorder of deglycosylation 1                                                                                                                                                                                                                                                             8\n",
       "Ataxia-intellectual disability-oculomotor apraxia-cerebellar cysts syndrome/Poretti-Boltshauser syndrome                                                                                                                                                                                                                                                                                                                                                 6\n",
       "Spondylometaphyseal dysplasia, Sedaghatian type/Spondylometaphyseal dysplasia, Sedaghatian type, Spondylometaphyseal dysplasia, Sedaghatian type/Spondylometaphyseal dysplasia, Sedaghatian type                                                                                                                                                                                                                                                         2\n",
       "Cerebellar ataxia-areflexia-pes cavus-optic atrophy-sensorineural hearing loss syndrome/Cerebellar ataxia, areflexia, pes cavus, optic atrophy, and sensorineural hearing loss, Cerebellar ataxia-areflexia-pes cavus-optic atrophy-sensorineural hearing loss syndrome/Cerebellar ataxia, areflexia, pes cavus, optic atrophy, and sensorineural hearing loss                                                                                           1\n",
       "Neutropenia, severe congenital, 4, autosomal recessive                                                                                                                                                                                                                                                                                                                                                                                                   1\n",
       "THOC6-related developmental delay-microcephaly-facial dysmorphism syndrome/Beaulieu-Boycott-Innes syndrome                                                                                                                                                                                                                                                                                                                                               1\n",
       "SHORT syndrome/Short syndrome, SHORT syndrome/Short syndrome                                                                                                                                                                                                                                                                                                                                                                                             1\n",
       "Methylmalonate semialdehyde dehydrogenase deficiency                                                                                                                                                                                                                                                                                                                                                                                                     1\n",
       "Shprintzen-Goldberg syndrome/Shprintzen-Goldberg craniosynostosis syndrome, Shprintzen-Goldberg syndrome/Shprintzen-Goldberg craniosynostosis syndrome                                                                                                                                                                                                                                                                                                   1\n",
       "Mandibulofacial dysostosis-microcephaly syndrome/Mandibulofacial dysostosis, Guion-Almeida type, Mandibulofacial dysostosis-microcephaly syndrome/Mandibulofacial dysostosis, Guion-Almeida type                                                                                                                                                                                                                                                         1\n",
       "Microcephaly 2, primary, autosomal recessive, with or without cortical malformations, Autosomal recessive primary microcephaly/Microcephaly, primary autosomal recessive, 1                                                                                                                                                                                                                                                                              1\n",
       "Microcephaly-Capillary malformation syndrome                                                                                                                                                                                                                                                                                                                                                                                                             1\n",
       "Epilepsy, focal, with speech disorder and with or without mental retardation                                                                                                                                                                                                                                                                                                                                                                             1\n",
       "Cataract-growth hormone deficiency-sensory neuropathy-sensorineural hearing loss-skeletal dysplasia syndrome/Cataracts, growth hormone deficiency, sensory neuropathy, sensorineural hearing loss, and skeletal dysplasia, Cataract-growth hormone deficiency-sensory neuropathy-sensorineural hearing loss-skeletal dysplasia syndrome/Cataracts, growth hormone deficiency, sensory neuropathy, sensorineural hearing loss, and skeletal dysplasia     1\n",
       "Perrault syndrome 1                                                                                                                                                                                                                                                                                                                                                                                                                                      1\n",
       "Combined immunodeficiency-enteropathy spectrum/Gastrointestinal defects and immunodeficiency syndrome, Combined immunodeficiency-enteropathy spectrum/Gastrointestinal defects and immunodeficiency syndrome                                                                                                                                                                                                                                             1\n",
       "dtype: int64"
      ]
     },
     "execution_count": 75,
     "metadata": {},
     "output_type": "execute_result"
    }
   ],
   "source": [
    "pd.Series(mme_diseases).value_counts()"
   ]
  },
  {
   "cell_type": "code",
   "execution_count": 95,
   "metadata": {},
   "outputs": [
    {
     "data": {
      "text/plain": [
       "1"
      ]
     },
     "execution_count": 95,
     "metadata": {},
     "output_type": "execute_result"
    }
   ],
   "source": [
    "pd.Series(ramedis_diseases).str.contains(\"Hypo\").sum()"
   ]
  },
  {
   "cell_type": "code",
   "execution_count": 94,
   "metadata": {},
   "outputs": [
    {
     "data": {
      "text/plain": [
       "11              Ehlers-Danlos syndrome, classic type, 2\n",
       "22    Classical-like Ehlers-Danlos syndrome type 2/E...\n",
       "dtype: object"
      ]
     },
     "execution_count": 94,
     "metadata": {},
     "output_type": "execute_result"
    }
   ],
   "source": [
    "pd.Series(lirical_diseases)[pd.Series(lirical_diseases).str.contains(\"Ehlers\")==True]"
   ]
  },
  {
   "cell_type": "code",
   "execution_count": null,
   "metadata": {},
   "outputs": [],
   "source": []
  }
 ],
 "metadata": {
  "kernelspec": {
   "display_name": "metrics",
   "language": "python",
   "name": "python3"
  },
  "language_info": {
   "codemirror_mode": {
    "name": "ipython",
    "version": 3
   },
   "file_extension": ".py",
   "mimetype": "text/x-python",
   "name": "python",
   "nbconvert_exporter": "python",
   "pygments_lexer": "ipython3",
   "version": "3.11.0"
  }
 },
 "nbformat": 4,
 "nbformat_minor": 2
}
